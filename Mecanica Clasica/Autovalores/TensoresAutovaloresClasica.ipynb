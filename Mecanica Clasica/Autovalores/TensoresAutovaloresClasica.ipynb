{
 "cells": [
  {
   "cell_type": "code",
   "execution_count": 1,
   "id": "ce95cafd-9d14-4d81-85f1-33f60e4e1e30",
   "metadata": {},
   "outputs": [],
   "source": [
    "import numpy as np\n",
    "import pandas as pd\n",
    "import matplotlib.pyplot as plt\n",
    "from mpl_toolkits.mplot3d import Axes3D"
   ]
  },
  {
   "cell_type": "code",
   "execution_count": 2,
   "id": "d2879a1c-c4ec-4e3b-b58c-e95de8a2810f",
   "metadata": {},
   "outputs": [],
   "source": [
    "# Cargar el archivo .csv\n",
    "Data = pd.read_csv(\"datosmasas.csv\")\n",
    "\n",
    "# Listas\n",
    "masas = Data[\"masas\"].values         # Masas\n",
    "x = Data[\"x\"].values                 # Posiciones en X\n",
    "y = Data[\"y\"].values                 # Posiciones en Y\n",
    "z = Data[\"z\"].values                 # Posiciones en Z\n",
    "r2 = Data[[\"x\", \"y\"]].values         # Vector posición en el plano XY\n",
    "r3 = Data[[\"x\", \"y\", \"z\"]].values    # Vector posición en el espacio XYZ"
   ]
  },
  {
   "cell_type": "markdown",
   "id": "178b7384-3ce9-433b-83ac-6cf5431c1a74",
   "metadata": {},
   "source": [
    "# **Caso 1 (2D)**"
   ]
  },
  {
   "cell_type": "markdown",
   "id": "bbff254e-8aa5-42c0-8e93-43648fb843a1",
   "metadata": {},
   "source": [
    "## a. Momento de orden 0: Masa total (μ₀)}"
   ]
  },
  {
   "cell_type": "markdown",
   "id": "263178cb-61b3-4155-815d-3469bd04ca15",
   "metadata": {},
   "source": [
    "Es simplemente la suma de las masas de todas las partículas:\n",
    "\n",
    "$$ M = \\sum_{i=1}^N m_i $$\n",
    "\n",
    "donde $m_i$ es la masa de la partícula $i$. Este momento representa el “valor total” de la magnitud que se estudia, en este caso, la masa total del sistema."
   ]
  },
  {
   "cell_type": "code",
   "execution_count": 3,
   "id": "38af529e-16d3-4e72-882c-f49d3b578cc7",
   "metadata": {},
   "outputs": [
    {
     "name": "stdout",
     "output_type": "stream",
     "text": [
      "La masa total del sistema es 4627.0 kg.\n"
     ]
    }
   ],
   "source": [
    "Masa = 0  # Se define una masa inicial nula\n",
    "\n",
    "for i in range(len(masas)):  # Se crea un bucle que itera en las masas\n",
    "    Masa += masas[i]         # Se va sumando cada masa \n",
    "    \n",
    "print(f\"La masa total del sistema es {Masa} kg.\")  # Se imprime el resultado"
   ]
  },
  {
   "cell_type": "markdown",
   "id": "cd0c684a-fbe5-464d-8a50-2de1a58018ae",
   "metadata": {},
   "source": [
    "## b. Momento de orden 1: Centro de masa (μ₁)}"
   ]
  },
  {
   "cell_type": "markdown",
   "id": "4608ad1d-1526-4209-820d-2bcfc596a7b8",
   "metadata": {},
   "source": [
    "El primer momento indica la posición media, ponderada por la masa:\n",
    "\n",
    "$$\n",
    "\\vec{R}_{CM} = \\frac{1}{\\mu_0} \\sum_{i=1}^{N} m_i \\vec{r}_i\n",
    "$$\n",
    "\n",
    "donde $\\vec{r}_i = (x_i, y_i)$ es la posición de la partícula $i$ en el espacio (x,y).\n",
    "\n",
    "Este centro de masa es un vector que apunta al \"centro\" de la distribución de masa."
   ]
  },
  {
   "cell_type": "code",
   "execution_count": 4,
   "id": "3b56747a-a135-489a-aaa1-b78f4f1a511c",
   "metadata": {},
   "outputs": [
    {
     "name": "stdout",
     "output_type": "stream",
     "text": [
      "El centro de masa del sistema es: R_cm = [825.81521504 776.91852172] m.\n"
     ]
    }
   ],
   "source": [
    "R_cm_2d = np.array([0.0, 0.0])  # Se define un centro de masa nulo\n",
    "\n",
    "for i in range(len(masas)):      # Se crea un bucle que itera en las masas y el vector posición.\n",
    "    R_cm_2d += masas[i] * r2[i]  # Se hace el calculo de cada masa por su respectiva posición en el plano xy. \n",
    "\n",
    "R_cm_2d /= Masa   # Se divide el resultado anterior por la masa total para obtener el centro de masa 2D \"R_cm_2d\"\n",
    "\n",
    "print(f\"El centro de masa del sistema es: R_cm = {R_cm_2d} m.\") # Se imprime el resultado"
   ]
  },
  {
   "cell_type": "markdown",
   "id": "9b8e064c-9302-4855-94bf-4f83b8b445ac",
   "metadata": {},
   "source": [
    "## c. Momento de orden 2: Tensor de inercia (μ₂)"
   ]
  },
  {
   "cell_type": "markdown",
   "id": "f26a1d9d-6c85-4594-98fb-ea32e66b2b45",
   "metadata": {},
   "source": [
    "En un sistema discreto de partículas, el segundo momento de masa define una *matriz simétrica* llamada *tensor de inercia*, que describe cómo está distribuida la masa respecto al centro de masa. Este objeto es fundamental en el estudio de la dinámica rotacional.\n",
    "\n",
    "En 2D, el tensor de inercia centrado se expresa como:\n",
    "\n",
    "$$\n",
    "I = \\sum_{i=1}^{N} \n",
    "\\begin{pmatrix}\n",
    "m_i(y_i - \\bar{y})^2 & -m_i(x_i - \\bar{x})(y_i - \\bar{y}) \\\\\n",
    "-m_i(x_i - \\bar{x})(y_i - \\bar{y}) & m_i(x_i - \\bar{x})^2\n",
    "\\end{pmatrix}\n",
    "$$\n",
    "\n",
    "donde $ \\vec{R}_{\\text{CM}} = (\\bar{x}, \\bar{y}) $. Es decir, *las posiciones deben estar referidas al centro de masa*. Este tensor puede ser *diagonalizado*, y sus *autovalores* representan los *momentos principales de inercia*, con direcciones asociadas llamadas *ejes principales de inercia*."
   ]
  },
  {
   "cell_type": "code",
   "execution_count": 5,
   "id": "8f66637e-2d10-4da5-bbd1-469fa784da7b",
   "metadata": {},
   "outputs": [
    {
     "name": "stdout",
     "output_type": "stream",
     "text": [
      "La matriz de inercia es\n",
      "[[ 9.63660148e+08 -9.11747911e+08]\n",
      " [-9.11747911e+08  9.58535589e+08]]\n",
      "\n"
     ]
    }
   ],
   "source": [
    "I_2d = np.zeros((2, 2))   # Se define una matriz de inercia nula \n",
    "\n",
    "for i in range(len(masas)):   # Se crea un bucle que itera en las masas\n",
    "    dx = x[i] - R_cm_2d[0]    # Se definen las coordendas x de cada punto respecto al centro de masa\n",
    "    dy = y[i] - R_cm_2d[1]    # Se definen las coordendas y de cada punto respecto al centro de masa\n",
    "    \n",
    "    I_2d[0, 0] += masas[i] * dy**2     # I_11\n",
    "    I_2d[1, 1] += masas[i] * dx**2     # I_22\n",
    "    I_2d[0, 1] -= masas[i] * dx * dy   # I_12 = I_21\n",
    "\n",
    "# Simetría\n",
    "I_2d[1, 0] = I_2d[0, 1]      # I_12 = I_21\n",
    "\n",
    "print(f\"La matriz de inercia es\")\n",
    "print(I_2d)\n",
    "print()"
   ]
  },
  {
   "cell_type": "markdown",
   "id": "a298390c-7766-46a3-ae3a-9a3df71f11ee",
   "metadata": {},
   "source": [
    "Haciendo los respectivos cálculos mediante un bucle, obtenemos que el tensor de inercia es:\n",
    "\n",
    "$$\n",
    "I =\n",
    "\\begin{pmatrix}\n",
    "\\phantom{-}9.6366 \\times 10^8 & -9.1174 \\times 10^8 \\\\\n",
    "-9.1174 \\times 10^8 & \\phantom{-}9.5853 \\times 10^8\n",
    "\\end{pmatrix} =\n",
    "\\begin{pmatrix}\n",
    "\\phantom{-}9.6366 & -9.1174 \\\\\n",
    "-9.1174 & \\phantom{-}9.5853\n",
    "\\end{pmatrix} \\times 10^8\n",
    "$$\n",
    "\n",
    "Esta matriz corresponde a una distribución de 1533 partículas en el plano $XY$, con una masa total de 4627 kg y un centro de masa ubicado en $(825.81,\\ 776.91)$ m. Dado el tamaño y la masa del sistema, es normal que las componentes del tensor sean tan grandes.\n"
   ]
  },
  {
   "cell_type": "markdown",
   "id": "c2cbbbcb-2900-4c83-ae05-17e877340c67",
   "metadata": {},
   "source": [
    "### • ¿Los vectores base del sistema cartesiano constituyen una base propia para esta distribución de masa? Esto es: ¿Los vectores cartesianos son autovectores del tensor momento de inercia?"
   ]
  },
  {
   "cell_type": "markdown",
   "id": "0f2c67b4-395f-43f9-837a-829c1464ac74",
   "metadata": {},
   "source": [
    "Esto es lo mismo a preguntar si la matriz del tensor de inercia en base cartesiana está diagonalizada, es decir, si la base canónica $\\{\\hat{\\mathbf{x}}, \\hat{\\mathbf{y}}\\}$ está alineada con los ejes principales de inercia.\n",
    "\n",
    "Matemáticamente, eso sucede si y solo si el tensor $I$ es diagonal en la base cartesiana, es decir:\n",
    "\n",
    "$$\n",
    "I =\n",
    "\\begin{pmatrix}\n",
    "I_{xx} & 0 \\\\\n",
    "0 & I_{yy}\n",
    "\\end{pmatrix}\n",
    "\\quad \\Rightarrow \\quad\n",
    "\\text{los vectores cartesianos son autovectores.}\n",
    "$$\n",
    "\n",
    "Pero en nuestro caso, la matriz de inercia es:\n",
    "\n",
    "$$\n",
    "I =\n",
    "\\begin{pmatrix}\n",
    "\\phantom{-}9.6366 & -9.1174 \\\\\n",
    "-9.1174 & \\phantom{-}9.5853\n",
    "\\end{pmatrix} \\times 10^8\n",
    "$$\n",
    "\n",
    "La cual, no es una matriz diagonal, ya que los componentes $I_{xy} = I_{yx} \\neq 0$, así que:\n",
    "\n",
    "**No, los vectores base del sistema cartesiano no constituyen una base propia para esta distribución de masa.**"
   ]
  },
  {
   "cell_type": "markdown",
   "id": "5f25b282-b988-46ed-92ee-e033619bdff8",
   "metadata": {},
   "source": [
    "### • Encuentre los ejes principales de inercia para esta distribución de masas. Estos son aquellos vectores propios del tensor de inercia, que forman una base ortogonal respecto a la cual la distribución de las masas se organiza de forma más simple."
   ]
  },
  {
   "cell_type": "code",
   "execution_count": 6,
   "id": "ba10041e-07a2-4df7-88b2-166942221304",
   "metadata": {
    "scrolled": true
   },
   "outputs": [
    {
     "name": "stdout",
     "output_type": "stream",
     "text": [
      "λ1 = 1872849380.3542147\n",
      "V1 = [ 0.70809967 -0.7061125 ]\n",
      "\n",
      "λ2 = 49346356.93733525\n",
      "V2 = [0.7061125  0.70809967]\n",
      "\n"
     ]
    }
   ],
   "source": [
    "eigenvalues_2d, eigenvectors_2d = np.linalg.eig(I_2d)  # Se calculan los autovalores y autovectores con la funcion \"linalg.eig\" de numpy\n",
    "\n",
    "for i in range(len(eigenvalues_2d)):\n",
    "    print(f\"λ{i+1} = {eigenvalues_2d[i]}\")\n",
    "    print(f\"V{i+1} = {eigenvectors_2d[:, i]}\\n\")"
   ]
  },
  {
   "cell_type": "markdown",
   "id": "e8388570-2113-44db-a56c-5072a261cd22",
   "metadata": {},
   "source": [
    "En nuestro caso:\n",
    "\n",
    "$$\n",
    "I =\n",
    "\\begin{pmatrix}\n",
    "\\phantom{-}9.6366 & -9.1174 \\\\\n",
    "-9.1174 & \\phantom{-}9.5853\n",
    "\\end{pmatrix} \\times 10^8\n",
    "$$\n",
    "\n",
    "Para encontrar los autovalores del tensor de inercia, resolvemos la ecuación característica:\n",
    "\n",
    "$$ \n",
    "\\det(I - \\lambda \\mathbb{I}) = 0\n",
    "$$\n",
    "\n",
    "donde $ I $ es el tensor de inercia, $ \\lambda $ el autovalor y $ \\mathbb{I} $ la matriz identidad. Al resolver numéricamente en Python obtenemos:\n",
    "\n",
    "$$ \n",
    "\\lambda_1 = 4.9346 \\times 10^7, \\quad\n",
    "\\lambda_2 = 1.8728\\times 10^9\n",
    "$$\n",
    "\n",
    "Para los autovectores, resolvemos:\n",
    "\n",
    "$$\n",
    "(I - \\lambda_i \\mathbb{I}) \\vec{v}_i = 0\n",
    "$$\n",
    "\n",
    "y obtenemos:\n",
    "\n",
    "$$\n",
    "\\vec{v}_1 = \\begin{pmatrix} \\phantom{-}0.7080 \\\\ -0.7061 \\end{pmatrix}, \\quad\n",
    "\\vec{v}_2 = \\begin{pmatrix} \\phantom{-}0.7061 \\\\ \\phantom{-}0.7080\\end{pmatrix}\n",
    "$$\n",
    "\n",
    "Estos vectores son ortonormales y definen los **ejes principales de inercia**.\n"
   ]
  },
  {
   "cell_type": "markdown",
   "id": "eb4d66d8-ba7a-4690-ab9a-3be460c13a1b",
   "metadata": {},
   "source": [
    "### • Encuentre la matriz de transformación de la base cartesiana a la base de autovectores conformada por los ejes principales."
   ]
  },
  {
   "cell_type": "code",
   "execution_count": 7,
   "id": "3ebdd3b3-1d5b-4da9-842b-2a2e7dffac9c",
   "metadata": {},
   "outputs": [
    {
     "name": "stdout",
     "output_type": "stream",
     "text": [
      "Matriz de transformación de la base cartesiana a la base de autovectores:\n",
      "[[ 0.70809967  0.7061125 ]\n",
      " [-0.7061125   0.70809967]]\n",
      "\n",
      "Tensor de inercia en la base principal (forma diagonal):\n",
      "[[1.87284938e+09 0.00000000e+00]\n",
      " [0.00000000e+00 4.93463569e+07]]\n"
     ]
    }
   ],
   "source": [
    "# autovectores: columnas = vectores propios (ejes principales)\n",
    "P_2d = eigenvectors_2d  # Ya calculados previamente con np.linalg.eigh\n",
    "\n",
    "print(\"Matriz de transformación de la base cartesiana a la base de autovectores:\")\n",
    "print(P_2d)\n",
    "\n",
    "# Verificamos que efectivamente diagonaliza el tensor de inercia:\n",
    "I_diag_2d = P_2d.T @ I_2d @ P_2d\n",
    "\n",
    "# Aproximar los valores pequeños del orden de 10^-6 a cero\n",
    "I_diag_2d[np.abs(I_diag_2d) < 1e-6] = 0\n",
    "\n",
    "print(\"\\nTensor de inercia en la base principal (forma diagonal):\")\n",
    "print(I_diag_2d)"
   ]
  },
  {
   "cell_type": "markdown",
   "id": "c4455c84-44ca-48d4-a386-93bf83d22a09",
   "metadata": {},
   "source": [
    "Dado que el tensor de inercia es una matriz simétrica, sus autovectores forman una base ortonormal. Esta base está compuesta por los **ejes principales de inercia**, es decir, las direcciones en las que la masa está distribuida de forma más \"simétrica\".\n",
    "\n",
    "$$\n",
    "P = \n",
    "\\begin{pmatrix}\n",
    "\\phantom{-}0.7080 & \\phantom{-}0.7061 \\\\\n",
    "-0.7061 & \\phantom{-}0.7080\n",
    "\\end{pmatrix}\n",
    "$$\n",
    "\n",
    "La **matriz de transformación** de la base cartesiana a la base principal de inercia es una matriz cuyas **columnas son los autovectores normalizados** del tensor de inercia. Denotemos esta matriz como \\( P \\). Como los autovectores forman una base ortonormal, se cumple que:\n",
    "\n",
    "$$\n",
    "P^{-1} = P^\\top\n",
    "$$\n",
    "\n",
    "Usando esta matriz, podemos transformar el tensor de inercia \\( I \\) a su forma diagonal (sin productos de inercia) mediante:\n",
    "\n",
    "$$\n",
    "I_{\\text{diag}} = P^\\top I P\n",
    "$$\n",
    "\n",
    "Esto nos permite expresar el tensor en la **base de los ejes principales**, donde su forma es más simple.\n",
    "\n",
    "$$\n",
    "I = \n",
    "\\begin{pmatrix}\n",
    "4.9346 \\times 10^7 & 0 \\\\\n",
    "0 & 1.8728 \\times 10^9\n",
    "\\end{pmatrix} = \n",
    "\\begin{pmatrix}\n",
    "\\lambda_1 & 0 \\\\\n",
    "0 & \\lambda_2\n",
    "\\end{pmatrix} \n",
    "$$\n",
    "\n",
    "Donde $\\lambda_1$ y $\\lambda_2$ son los momentos principales de inercia del sistema respecto a sus ejes principales, que ya hallamos anteriormente. "
   ]
  },
  {
   "cell_type": "markdown",
   "id": "cd321270-4892-45c9-a85e-c2868592524d",
   "metadata": {},
   "source": [
    "## Grafica de referencia para el caso en 2D."
   ]
  },
  {
   "cell_type": "code",
   "execution_count": 8,
   "id": "178b2976-966a-4078-abf7-3fc8d4f323cd",
   "metadata": {},
   "outputs": [
    {
     "ename": "NameError",
     "evalue": "name 'colors' is not defined",
     "output_type": "error",
     "traceback": [
      "\u001b[1;31m---------------------------------------------------------------------------\u001b[0m",
      "\u001b[1;31mNameError\u001b[0m                                 Traceback (most recent call last)",
      "Cell \u001b[1;32mIn[8], line 16\u001b[0m\n\u001b[0;32m     13\u001b[0m \u001b[38;5;28;01mfor\u001b[39;00m i \u001b[38;5;129;01min\u001b[39;00m \u001b[38;5;28mrange\u001b[39m(\u001b[38;5;241m2\u001b[39m):\n\u001b[0;32m     14\u001b[0m     vec \u001b[38;5;241m=\u001b[39m eigenvectors_2d[:, i]  \u001b[38;5;66;03m# Autovector\u001b[39;00m\n\u001b[0;32m     15\u001b[0m     ax\u001b[38;5;241m.\u001b[39marrow(R_cm_2d[\u001b[38;5;241m0\u001b[39m], R_cm_2d[\u001b[38;5;241m1\u001b[39m], scale \u001b[38;5;241m*\u001b[39m vec[\u001b[38;5;241m0\u001b[39m], scale \u001b[38;5;241m*\u001b[39m vec[\u001b[38;5;241m1\u001b[39m],\n\u001b[1;32m---> 16\u001b[0m              head_width\u001b[38;5;241m=\u001b[39m\u001b[38;5;241m20\u001b[39m, head_length\u001b[38;5;241m=\u001b[39m\u001b[38;5;241m30\u001b[39m, color\u001b[38;5;241m=\u001b[39mcolors[i],\n\u001b[0;32m     17\u001b[0m              label\u001b[38;5;241m=\u001b[39m\u001b[38;5;124mf\u001b[39m\u001b[38;5;124m'\u001b[39m\u001b[38;5;124mEje principal \u001b[39m\u001b[38;5;132;01m{\u001b[39;00mi\u001b[38;5;241m+\u001b[39m\u001b[38;5;241m1\u001b[39m\u001b[38;5;132;01m}\u001b[39;00m\u001b[38;5;124m'\u001b[39m)\n\u001b[0;32m     19\u001b[0m \u001b[38;5;66;03m# Etiquetas y estética\u001b[39;00m\n\u001b[0;32m     20\u001b[0m ax\u001b[38;5;241m.\u001b[39mset_xlabel(\u001b[38;5;124m\"\u001b[39m\u001b[38;5;124mx [m]\u001b[39m\u001b[38;5;124m\"\u001b[39m)\n",
      "\u001b[1;31mNameError\u001b[0m: name 'colors' is not defined"
     ]
    },
    {
     "data": {
      "image/png": "[encoded data removed]",
      "text/plain": [
       "<Figure size 800x800 with 1 Axes>"
      ]
     },
     "metadata": {},
     "output_type": "display_data"
    }
   ],
   "source": [
    "# Crear figura y ejes\n",
    "fig, ax = plt.subplots(figsize=(8, 8))\n",
    "ax.set_aspect('equal')\n",
    "\n",
    "# 1. Graficar partículas\n",
    "ax.scatter(x, y, s=10, c='gray', alpha=0.6, label='Partículas')\n",
    "\n",
    "# 2. Graficar centro de masa\n",
    "ax.scatter(*R_cm_2d, color='red', s=60, label='Centro de masa')\n",
    "\n",
    "# 3. Graficar ejes principales (autovectores escalados)\n",
    "scale = 300  # Factor de escala visual\n",
    "for i in range(2):\n",
    "    vec = eigenvectors_2d[:, i]  # Autovector\n",
    "    ax.arrow(R_cm_2d[0], R_cm_2d[1], scale * vec[0], scale * vec[1],\n",
    "             head_width=20, head_length=30, color=colors[i],\n",
    "             label=f'Eje principal {i+1}')\n",
    "\n",
    "# Etiquetas y estética\n",
    "ax.set_xlabel(\"x [m]\")\n",
    "ax.set_ylabel(\"y [m]\")\n",
    "ax.set_title(\"Distribución de partículas en 2D y ejes principales de inercia\")\n",
    "ax.grid(True)\n",
    "ax.legend()\n",
    "plt.tight_layout()\n",
    "plt.show()\n"
   ]
  },
  {
   "cell_type": "markdown",
   "id": "8dccf510-7b29-4bb2-aa02-48e0e8a31391",
   "metadata": {},
   "source": [
    "# **Caso 2 (3D)**"
   ]
  },
  {
   "cell_type": "markdown",
   "id": "59453e94-a310-49dd-906d-0aa80dc440ce",
   "metadata": {},
   "source": [
    "## a. Momento de orden 0: Masa total (μ₀)}"
   ]
  },
  {
   "cell_type": "markdown",
   "id": "c5fdac6a-2a51-44fc-88a7-1dac5280e348",
   "metadata": {},
   "source": [
    "Es simplemente la suma de las masas de todas las partículas:\n",
    "\n",
    "$$ M = \\sum_{i=1}^N m_i $$\n",
    "\n",
    "donde $m_i$ es la masa de la partícula $i$. Este momento representa el “valor total” de la magnitud que se estudia, en este caso, la masa total del sistema."
   ]
  },
  {
   "cell_type": "code",
   "execution_count": null,
   "id": "34411309-414a-487f-b101-e679881fa9aa",
   "metadata": {},
   "outputs": [],
   "source": [
    "Masa = 0  # Se define una masa inicial nula\n",
    "\n",
    "for i in range(len(masas)):  # Se crea un bucle que itera en las masas\n",
    "    Masa += masas[i]         # Se va sumando cada masa \n",
    "    \n",
    "print(f\"La masa total del sistema es {Masa} kg.\")  # Se imprime el resultado"
   ]
  },
  {
   "cell_type": "markdown",
   "id": "743ecb63-2958-4c49-86b0-95f842a4facd",
   "metadata": {},
   "source": [
    "## b. Momento de orden 1: Centro de masa (μ₁)}"
   ]
  },
  {
   "cell_type": "markdown",
   "id": "d44ff4d4-87f2-49c5-aaf6-89279ecb869c",
   "metadata": {
    "jp-MarkdownHeadingCollapsed": true
   },
   "source": [
    "El primer momento indica la posición media, ponderada por la masa:\n",
    "\n",
    "$$\n",
    "\\vec{R}_{CM} = \\frac{1}{\\mu_0} \\sum_{i=1}^{N} m_i \\vec{r}_i\n",
    "$$\n",
    "\n",
    "donde $\\vec{r}_i = (x_i, y_i,z_i)$ es la posición de la partícula $i$ en el espacio (x,y,z).\n",
    "\n",
    "Este centro de masa es un vector que apunta al \"centro\" de la distribución de masa."
   ]
  },
  {
   "cell_type": "code",
   "execution_count": null,
   "id": "389aa859-308b-4474-bd14-750bd7ed058f",
   "metadata": {},
   "outputs": [],
   "source": [
    "R_cm_3d = np.array([0.0, 0.0, 0.0])  # Se define un centro de masa nulo\n",
    "\n",
    "for i in range(len(masas)):      # Se crea un bucle que itera en las masas y el vector posición.\n",
    "    R_cm_3d += masas[i] * r3[i]  # Se hace el calculo de cada masa por su respectiva posición en el espacio xyz. \n",
    "\n",
    "R_cm_3d /= Masa   # Se divide el resultado anterior por la masa total para obtener el centro de masa 3D \"R_cm_3d\"\n",
    "\n",
    "print(f\"El centro de masa del sistema es: R_cm = {R_cm_3d} m.\") # Se imprime el resultado"
   ]
  },
  {
   "cell_type": "markdown",
   "id": "bb632520-0869-49c6-82c9-59e2ce6f32eb",
   "metadata": {},
   "source": [
    "## c. Momento de orden 2: Tensor de inercia (μ₂)"
   ]
  },
  {
   "cell_type": "markdown",
   "id": "a4781704-4cb0-42f9-88ca-34e248b036c7",
   "metadata": {},
   "source": [
    "En un sistema discreto de partículas, el segundo momento de masa define una *matriz simétrica* llamada *tensor de inercia*, que describe cómo está distribuida la masa respecto al centro de masa. Este objeto es fundamental en el estudio de la dinámica rotacional.\n",
    "\n",
    "En 3D, el tensor de inercia centrado se expresa como:\n",
    "\n",
    "$$\n",
    "I = \\begin{pmatrix}\n",
    "\\sum m_i \\left[(y_i - \\bar{y})^2 + (z_i - \\bar{z})^2\\right] \n",
    "& -\\sum m_i (x_i - \\bar{x})(y_i - \\bar{y}) \n",
    "& -\\sum m_i (x_i - \\bar{x})(z_i - \\bar{z}) \\\\\n",
    "\\\\\n",
    "-\\sum m_i (x_i - \\bar{x})(y_i - \\bar{y}) \n",
    "& \\sum m_i \\left[(x_i - \\bar{x})^2 + (z_i - \\bar{z})^2\\right] \n",
    "& -\\sum m_i (y_i - \\bar{y})(z_i - \\bar{z}) \\\\\n",
    "\\\\\n",
    "-\\sum m_i (x_i - \\bar{x})(z_i - \\bar{z}) \n",
    "& -\\sum m_i (y_i - \\bar{y})(z_i - \\bar{z}) \n",
    "& \\sum m_i \\left[(x_i - \\bar{x})^2 + (y_i - \\bar{y})^2\\right]\n",
    "\\end{pmatrix}\n",
    "$$\n",
    "\n",
    "donde $ \\vec{R}_{\\text{CM}} = (\\bar{x}, \\bar{y}) $. Es decir, *las posiciones deben estar referidas al centro de masa*. Este tensor puede ser *diagonalizado*, y sus *autovalores* representan los *momentos principales de inercia*, con direcciones asociadas llamadas *ejes principales de inercia*."
   ]
  },
  {
   "cell_type": "code",
   "execution_count": null,
   "id": "ff2b074f-b7f4-49d7-8cf5-95592d787273",
   "metadata": {},
   "outputs": [],
   "source": [
    "I_3d = np.zeros((3, 3))   # Se define una matriz 3x3 de inercia nula \n",
    "\n",
    "for i in range(len(masas)):   # Se crea un bucle que itera en las masas\n",
    "    dx = x[i] - R_cm_3d[0]    # Se definen las coordendas x de cada punto respecto al centro de masa\n",
    "    dy = y[i] - R_cm_3d[1]    # Se definen las coordendas y de cada punto respecto al centro de masa\n",
    "    dz = z[i] - R_cm_3d[2]    # Se definen las coordendas z de cada punto respecto al centro de masa\n",
    "    \n",
    "    I_3d[0, 0] += masas[i] * ( dy**2 + dz**2 )  # I_11\n",
    "    I_3d[1, 1] += masas[i] * ( dx**2 + dz**2 )  # I_22\n",
    "    I_3d[2, 2] += masas[i] * ( dx**2 + dy**2 )  # I_33\n",
    "    I_3d[0, 1] -= masas[i] * dx * dy            # I_12 = I_21\n",
    "    I_3d[0, 2] -= masas[i] * dx * dz            # I_13 = I_31\n",
    "    I_3d[1, 2] -= masas[i] * dy * dz            # I_23 = I_23\n",
    "\n",
    "# Simetrías\n",
    "I_3d[1, 0] = I_3d[0, 1]  # I_12 = I_21\n",
    "I_3d[2, 0] = I_3d[0, 2]  # I_13 = I_31\n",
    "I_3d[2, 1] = I_3d[1, 2]  # I_23 = I_23\n",
    "\n",
    "print(f\"La matriz de inercia es\")\n",
    "print(I_3d)"
   ]
  },
  {
   "cell_type": "markdown",
   "id": "b5c19ba1-9c60-482a-8033-9c06a8709f1e",
   "metadata": {},
   "source": [
    "Haciendo los respectivos cálculos mediante un bucle, obtenemos que el tensor de inercia es:\n",
    "\n",
    "$$\n",
    "I =\n",
    "\\begin{pmatrix}\n",
    " \\phantom{-}1.0655 \\times 10^9 & -9.1174 \\times 10^8 & 7.1420 \\times 10^6 \\\\\n",
    " -9.1174 \\times 10^8 & \\phantom{-}1.0603 \\times 10^9 & 1.9295 \\times 10^6 \\\\\n",
    " \\phantom{-}7.1420\\times 10^6 & \\phantom{-}1.9295 \\times 10^6 & 1.9221 \\times 10^9\n",
    "\\end{pmatrix} \n",
    "$$\n",
    "\n",
    "Esta matriz corresponde a una distribución de 1533 partículas en el espacio $XYZ$, con una masa total de 4627 kg y centro de masa en $(825.815,\\ 776.919,\\ 15.503)$ m. Dado el tamaño y la masa del sistema, es normal que las componentes del tensor sean tan grandes."
   ]
  },
  {
   "cell_type": "markdown",
   "id": "12f74955-1d64-42a5-9127-74756c40e105",
   "metadata": {},
   "source": [
    "### • ¿Los vectores base del sistema cartesiano constituyen una base propia para esta distribución de masa? Esto es: ¿Los vectores cartesianos son autovectores del tensor momento de inercia?"
   ]
  },
  {
   "cell_type": "markdown",
   "id": "7aab4cb4-ea99-4a95-a085-662266531926",
   "metadata": {},
   "source": [
    "Esto equivale a preguntar si la matriz del tensor de inercia en la base cartesiana está diagonalizada, es decir, si la base canónica $ \\{\\hat{\\mathbf{x}}, \\hat{\\mathbf{y}}, \\hat{\\mathbf{z}}\\} $ está alineada con los ejes principales de inercia.\n",
    "\n",
    "Matemáticamente, eso sucede si y solo si el tensor $ I $ es diagonal en la base cartesiana, es decir:\n",
    "\n",
    "$$\n",
    "I =\n",
    "\\begin{pmatrix}\n",
    "I_{xx} & 0 & 0 \\\\\n",
    "0 & I_{yy} & 0 \\\\\n",
    "0 & 0 & I_{zz}\n",
    "\\end{pmatrix}\n",
    "\\quad \\Rightarrow \\quad\n",
    "\\text{los vectores cartesianos son autovectores.}\n",
    "$$\n",
    "\n",
    "Pero en nuestro caso, la matriz de inercia es:\n",
    "\n",
    "$$\n",
    "I =\n",
    "\\begin{pmatrix}\n",
    " \\phantom{-}1.0655 \\times 10^9 & -9.1174 \\times 10^8 & 7.1420 \\times 10^6 \\\\\n",
    " -9.1174 \\times 10^8 & \\phantom{-}1.0603 \\times 10^9 & 1.9295 \\times 10^6 \\\\\n",
    " \\phantom{-}7.1420\\times 10^6 & \\phantom{-}1.9295 \\times 10^6 & 1.9221 \\times 10^9\n",
    "\\end{pmatrix} \n",
    "$$\n",
    "\n",
    "La cual no es una matriz diagonal, ya que sus componentes fuera de la diagonal no son cero. Por tanto:\n",
    "\n",
    "**No, los vectores base del sistema cartesiano no constituyen una base propia para esta distribución de masa.**\n"
   ]
  },
  {
   "cell_type": "markdown",
   "id": "63e599a7-6991-4c13-b4f2-92507121a1de",
   "metadata": {},
   "source": [
    "### • Encuentre los ejes principales de inercia para esta distribución de masas. Estos son aquellos vectores propios del tensor de inercia, que forman una base ortogonal respecto a la cual la distribución de las masas se organiza de forma más simple."
   ]
  },
  {
   "cell_type": "code",
   "execution_count": null,
   "id": "fdc6de94-5ed2-4ce9-b0d3-b813da5f57b6",
   "metadata": {},
   "outputs": [],
   "source": [
    "eigenvalues_3d, eigenvectors_3d = np.linalg.eig(I_3d)   # Se calculan los autovalores y autovectores con la funcion \"linalg.eig\" de numpy\n",
    "\n",
    "for i in range(len(eigenvalues_3d)):\n",
    "    print(f\"λ{i+1} = {eigenvalues_3d[i]}\")\n",
    "    print(f\"V{i+1} = {eigenvectors_3d[:, i]}\\n\")"
   ]
  },
  {
   "cell_type": "markdown",
   "id": "b7ec2ed5-c4f7-41ec-9933-1a3a56cae3c4",
   "metadata": {},
   "source": [
    "En nuestro caso:\n",
    "\n",
    "$$\n",
    "I =\n",
    "\\begin{pmatrix}\n",
    " \\phantom{-}1.0655 \\times 10^9 & -9.1174 \\times 10^8 & 7.1420 \\times 10^6 \\\\\n",
    " -9.1174 \\times 10^8 & \\phantom{-}1.0603 \\times 10^9 & 1.9295 \\times 10^6 \\\\\n",
    " \\phantom{-}7.1420\\times 10^6 & \\phantom{-}1.9295 \\times 10^6 & 1.9221 \\times 10^9\n",
    "\\end{pmatrix} \n",
    "$$\n",
    "\n",
    "Para encontrar los autovalores del tensor de inercia, resolvemos la ecuación característica:\n",
    "\n",
    "$$ \n",
    "\\det(I - \\lambda \\mathbb{I}) = 0\n",
    "$$\n",
    "\n",
    "donde $ I $ es el tensor de inercia, $ \\lambda $ el autovalor y $ \\mathbb{I} $ la matriz identidad.  \n",
    "Al resolver numéricamente en Python obtenemos:\n",
    "\n",
    "$$ \n",
    "\\lambda_1 = 1.5116 \\times 10^8, \\quad\n",
    "\\lambda_2 = 1.9749 \\times 10^9, \\quad\n",
    "\\lambda_3 = 1.9219 \\times 10^9\n",
    "$$\n",
    "\n",
    "Para los autovectores, resolvemos:\n",
    "\n",
    "$$\n",
    "(I - \\lambda_i \\mathbb{I}) \\vec{v}_i = 0\n",
    "$$\n",
    "\n",
    "y obtenemos:\n",
    "\n",
    "$$\n",
    "\\vec{v}_1 =\n",
    "\\begin{pmatrix}\n",
    "-0.7061 \\\\\n",
    "-0.7080 \\\\\n",
    "\\phantom{-}0.0036\n",
    "\\end{pmatrix}, \\quad\n",
    "\\vec{v}_2 =\n",
    "\\begin{pmatrix}\n",
    "-0.7065 \\\\\n",
    "\\phantom{-}0.7042 \\\\\n",
    "-0.0698\n",
    "\\end{pmatrix}, \\quad\n",
    "\\vec{v}_3 =\n",
    "\\begin{pmatrix}\n",
    "-0.0469 \\\\\n",
    "\\phantom{-}0.0519 \\\\\n",
    "\\phantom{-}0.9975\n",
    "\\end{pmatrix}\n",
    "$$\n",
    "\n",
    "Estos vectores son ortonormales y definen los **ejes principales de inercia** del sistema. Cada vector está asociado al respectivo momento principal \\( \\lambda_i \\).\n"
   ]
  },
  {
   "cell_type": "code",
   "execution_count": null,
   "id": "64b4c5d3-45ec-48de-8f65-fb8f11d64957",
   "metadata": {},
   "outputs": [],
   "source": [
    "# autovectores: columnas = vectores propios (ejes principales)\n",
    "P_3d = eigenvectors_3d  # Ya calculados previamente con np.linalg.eigh\n",
    "\n",
    "print(\"Matriz de transformación de la base cartesiana a la base de autovectores:\")\n",
    "print(P_3d)\n",
    "\n",
    "# Verificamos que efectivamente diagonaliza el tensor de inercia:\n",
    "I_diag_3d = P_3d.T @ I_3d @ P_3d\n",
    "\n",
    "# Aproximar los valores pequeños del orden de 10^-5 a cero\n",
    "I_diag_3d[np.abs(I_diag_3d) < 1e-6] = 0\n",
    "\n",
    "print(\"\\nTensor de inercia en la base principal (forma diagonal):\")\n",
    "print(I_diag_3d)"
   ]
  },
  {
   "cell_type": "markdown",
   "id": "7e793d62-da50-4a0a-b291-277ad23fbc0a",
   "metadata": {},
   "source": [
    "Dado que el tensor de inercia es una matriz simétrica, sus autovectores forman una base ortonormal. Esta base está compuesta por los **ejes principales de inercia**, es decir, las direcciones en las que la masa está distribuida de forma más \"simétrica\".\n",
    "\n",
    "$$\n",
    "P = \n",
    "\\begin{pmatrix}\n",
    "-0.7061 & -0.7065 & -0.0469 \\\\\n",
    "-0.7080 & \\phantom{-}0.7042   & \\phantom{-}0.0519 \\\\\n",
    "\\phantom{-}0.0036 & -0.0698 &  \\phantom{-}0.9975\n",
    "\\end{pmatrix}\n",
    "$$\n",
    "\n",
    "La **matriz de transformación** de la base cartesiana a la base principal de inercia es una matriz cuyas **columnas son los autovectores normalizados** del tensor de inercia. Denotemos esta matriz como \\( P \\). Como los autovectores forman una base ortonormal, se cumple que:\n",
    "\n",
    "$$\n",
    "P^{-1} = P^\\top\n",
    "$$\n",
    "\n",
    "Usando esta matriz, podemos transformar el tensor de inercia \\( I \\) a su forma diagonal (sin productos de inercia) mediante:\n",
    "\n",
    "$$\n",
    "I_{\\text{diag}} = P^\\top I P\n",
    "$$\n",
    "\n",
    "Esto nos permite expresar el tensor en la **base de los ejes principales**, donde su forma es más simple.\n",
    "\n",
    "$$\n",
    "I = \n",
    "\\begin{pmatrix}\n",
    "1.5116 \\times 10^8 & 0 & 0  \\\\\n",
    "0 & 1.9749 \\times 10^9 & 0  \\\\\n",
    "0 & 0 & 1.9219 \\times 10^9 \n",
    "\\end{pmatrix} = \n",
    "\\begin{pmatrix}\n",
    "\\lambda_1 & 0 & 0 \\\\\n",
    "0 & \\lambda_2 & 0 \\\\\n",
    " 0 & 0 & \\lambda_3\n",
    "\\end{pmatrix} \n",
    "$$\n",
    "\n",
    "Donde $\\lambda_1$, $\\lambda_2$ y $\\lambda_3$ son los momentos principales de inercia del sistema respecto a sus ejes principales, que ya hallamos anteriormente. "
   ]
  },
  {
   "cell_type": "markdown",
   "id": "98bd7948-59ea-43da-9bdf-a36f392394c1",
   "metadata": {},
   "source": [
    "## Grafica de referencia para el caso en 3D."
   ]
  },
  {
   "cell_type": "code",
   "execution_count": null,
   "id": "86b9a516-ee14-4384-b2c0-b3ddc67fe5a4",
   "metadata": {},
   "outputs": [],
   "source": [
    "# Crear figura 3D\n",
    "fig = plt.figure(figsize=(10, 8))\n",
    "ax = fig.add_subplot(111, projection='3d')\n",
    "\n",
    "# 1. Graficar partículas\n",
    "ax.scatter(x, y, z, s=10, c='gray', alpha=0.6, label='Partículas')\n",
    "\n",
    "# 2. Graficar centro de masa\n",
    "ax.scatter(*R_cm_3d, color='red', s=80, label='Centro de masa')\n",
    "\n",
    "# 3. Graficar autovectores (ejes principales de inercia)\n",
    "scale = 300  # Escalado visual\n",
    "colors = ['blue', 'green', 'orange']\n",
    "\n",
    "for i in range(3):\n",
    "    vec = eigenvectors_3d[:, i]  # Autovector\n",
    "    ax.quiver(R_cm_3d[0], R_cm_3d[1], R_cm_3d[2],\n",
    "              vec[0], vec[1], vec[2],\n",
    "              length=scale, normalize=True, color=colors[i],\n",
    "              label=f'Eje principal {i+1}')\n",
    "\n",
    "# Etiquetas y estética\n",
    "ax.set_xlabel(\"x [m]\")\n",
    "ax.set_ylabel(\"y [m]\")\n",
    "ax.set_zlabel(\"z [m]\")\n",
    "ax.set_title(\"Distribución de partículas en 3D y ejes principales de inercia\")\n",
    "ax.legend()\n",
    "plt.tight_layout()\n",
    "plt.show()"
   ]
  }
 ],
 "metadata": {
  "kernelspec": {
   "display_name": "Python 3 (ipykernel)",
   "language": "python",
   "name": "python3"
  },
  "language_info": {
   "codemirror_mode": {
    "name": "ipython",
    "version": 3
   },
   "file_extension": ".py",
   "mimetype": "text/x-python",
   "name": "python",
   "nbconvert_exporter": "python",
   "pygments_lexer": "ipython3",
   "version": "3.12.7"
  }
 },
 "nbformat": 4,
 "nbformat_minor": 5
}
